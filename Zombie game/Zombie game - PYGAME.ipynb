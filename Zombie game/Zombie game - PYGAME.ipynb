{
 "cells": [
  {
   "cell_type": "markdown",
   "metadata": {},
   "source": [
    "# THIS IS A SELF MADE ZOMBIE GAME!!! "
   ]
  },
  {
   "cell_type": "markdown",
   "metadata": {},
   "source": [
    "![zombiegame](zombiegame.png)"
   ]
  },
  {
   "cell_type": "markdown",
   "metadata": {},
   "source": [
    "In this short game, you will be able to travel from room to room inside a self made home with 4 rooms. In these rooms you can encounter 'monsters' (=enemys) or 'nice people' (=friends). To make sure you stay alive, you can grab items if available in the rooms and put them in your backpack. This you can use to slay off the monsters you encounter. "
   ]
  },
  {
   "cell_type": "markdown",
   "metadata": {},
   "source": [
    "## First define some objects (OOP)"
   ]
  },
  {
   "cell_type": "markdown",
   "metadata": {},
   "source": [
    "### Rooms"
   ]
  },
  {
   "cell_type": "markdown",
   "metadata": {},
   "source": [
    "As said, we want to end up with 4 rooms inside our house, so we need to make an object called 'Room' first."
   ]
  },
  {
   "cell_type": "code",
   "execution_count": 1,
   "metadata": {},
   "outputs": [],
   "source": [
    "class Room():\n",
    "    def __init__(self, room_name):\n",
    "        self.name = room_name\n",
    "        self.decription = None\n",
    "        self.linked_rooms = {}\n",
    "        self.character = None\n",
    "        self.item = None\n",
    "\n",
    "#add a character setter and getter here:\n",
    "    def set_character(self, character):\n",
    "        self.character = character  \n",
    "    def get_character(self):\n",
    "        return self.character\n",
    "\n",
    "#add an item setter and getter here:\n",
    "    def set_item(self, item):\n",
    "        self.item = item\n",
    "    def get_item(self):\n",
    "        return self.item\n",
    "    \n",
    "#add a room description here:\n",
    "    def set_description(self, room_description):\n",
    "        self.description = room_description\n",
    "        self.linked_rooms = {}\n",
    "    def get_description(self):\n",
    "        return self.description\n",
    "\n",
    "#add a name for the room here:\n",
    "    def set_name(self, name):\n",
    "        self.name = name\n",
    "        self.linked_rooms = {}\n",
    "    def get_name(self):\n",
    "        return self.name\n",
    "  \n",
    "    #add a link to another room here:\n",
    "    def link_room(self, room_to_link, direction):\n",
    "        self.linked_rooms[direction] = room_to_link\n",
    "   \n",
    "    #add code here to display the report\n",
    "    def get_details(self):\n",
    "        print(\"\\n\")\n",
    "        print(\"The \" + self.name)\n",
    "        print(\"--------------------------\")\n",
    "        print(self.description)\n",
    "        for direction in self.linked_rooms:\n",
    "            room = self.linked_rooms[direction]\n",
    "            print(\"The \" + room.get_name() + ' is ' + direction)\n",
    "      \n",
    "  #add code to move between rooms\n",
    "    def move(self, direction):\n",
    "        if direction in self.linked_rooms:\n",
    "            return self.linked_rooms[direction]\n",
    "        else:\n",
    "            print(\"You can't go that way\")\n",
    "            return self"
   ]
  },
  {
   "cell_type": "markdown",
   "metadata": {},
   "source": [
    "### Characters"
   ]
  },
  {
   "cell_type": "markdown",
   "metadata": {},
   "source": [
    "Now we have added the rooms, let's also add the characters to play in this game"
   ]
  },
  {
   "cell_type": "code",
   "execution_count": 2,
   "metadata": {},
   "outputs": [],
   "source": [
    "class Character():\n",
    "    # Create a character\n",
    "    def __init__(self, char_name, char_description):\n",
    "        self.name = char_name\n",
    "        self.description = char_description\n",
    "        self.conversation = None\n",
    "    \n",
    "    # Describe this character\n",
    "    def describe(self):\n",
    "        print( self.name + \" is here!\" )\n",
    "        print( self.description )\n",
    "    \n",
    "    # Set what this character will say when talked to\n",
    "    def set_conversation(self, conversation):\n",
    "        self.conversation = conversation\n",
    "    \n",
    "    # Talk to this character\n",
    "    def talk(self):\n",
    "        if self.conversation is not None:\n",
    "            print(\"[\" + self.name + \" says]: \" + self.conversation)\n",
    "        else:\n",
    "            print(self.name + \" doesn't want to talk to you\")\n",
    "    \n",
    "    # Fight with this character\n",
    "    def fight(self, combat_item):\n",
    "        print(self.name + \" doesn't want to fight with you\")\n",
    "        return True\n",
    "\n",
    "#add a nice person = friend\n",
    "class Friend(Character):\n",
    "    def __init__(self, char_name, char_description):\n",
    "        super().__init__(char_name, char_description)\n",
    "   \n",
    "    def hugg(self):\n",
    "        print(\"You got a big hugg from \" + self.name )\n",
    "    \n",
    "\n",
    "#add a monster = enemy\n",
    "class Enemy(Character):\n",
    "    def __init__(self, char_name, char_description):\n",
    "        super().__init__(char_name, char_description)\n",
    "        self.weakness = None\n",
    "  \n",
    "    def set_weakness(self, item_weakness):\n",
    "        self.weakness = item_weakness\n",
    "    \n",
    "    def get_weakness(self):\n",
    "        return self.weakness\n",
    "  \n",
    "    def fight(self, combat_item):\n",
    "        if combat_item == self.weakness:\n",
    "            print(\"You fend \" + self.name + \" off with the \" + combat_item )\n",
    "            return True\n",
    "        else:\n",
    "            print(self.name + \" crushes you, puny adventurer\")\n",
    "            return False"
   ]
  },
  {
   "cell_type": "markdown",
   "metadata": {},
   "source": [
    "### Item"
   ]
  },
  {
   "cell_type": "markdown",
   "metadata": {},
   "source": [
    "Okay, the rooms and character objects are made, let's add some items that we can put inside rooms for the adventurer to take in their backpack whilst taking on the enemies in this house. "
   ]
  },
  {
   "cell_type": "code",
   "execution_count": 3,
   "metadata": {},
   "outputs": [],
   "source": [
    "class Item():\n",
    "    def __init__(self, item_name):\n",
    "        self.name = item_name\n",
    "        self.description = None\n",
    "        self.take_item = None\n",
    "  \n",
    "    #describe the item\n",
    "    def set_description(self, item_description):\n",
    "        self.description = item_description\n",
    "        self.items_linked = {}\n",
    "    def get_description(self):\n",
    "        return self.description\n",
    "\n",
    "    #name the item\n",
    "    def set_name(self, name):\n",
    "        self.name = name\n",
    "        self.items_linked = {}     \n",
    "    def get_name(self):\n",
    "        return self.name\n",
    "  \n",
    "    #add a function to take the item into a backpack\n",
    "    def take(self, item_to_take):\n",
    "        self.take_item = item_to_take\n",
    "  \n",
    "    def get_details(self):\n",
    "        print(\"\\n\")\n",
    "        print(\"The item in this room is: \")\n",
    "        print(\"The \" + self.name)\n",
    "        print(\"--------------------------\")\n",
    "        print(self.description)\n",
    "        \n",
    "  "
   ]
  },
  {
   "cell_type": "markdown",
   "metadata": {},
   "source": [
    "## Now we create the game"
   ]
  },
  {
   "cell_type": "markdown",
   "metadata": {},
   "source": [
    "In order to make all the objects work properly, we have to add some functionalities here and make the actual characters and items and link them to rooms. After this, it's GAME ON!"
   ]
  },
  {
   "cell_type": "markdown",
   "metadata": {},
   "source": [
    "### Import the libraries for the pygame"
   ]
  },
  {
   "cell_type": "code",
   "execution_count": null,
   "metadata": {},
   "outputs": [],
   "source": [
    "import pygame\n",
    "import os\n",
    "import time\n",
    "\n",
    "pygame.init()\n",
    "\n",
    "#set the display\n",
    "display_width = 1200\n",
    "display_height = 1000\n",
    "\n",
    "#set the title of the screen (left on top) and add a clock\n",
    "pygame.display.set_caption(\"Zombie Slayer Game\")\n",
    "clock = pygame.time.Clock()"
   ]
  },
  {
   "cell_type": "markdown",
   "metadata": {},
   "source": [
    "### Set the game colors"
   ]
  },
  {
   "cell_type": "code",
   "execution_count": null,
   "metadata": {},
   "outputs": [],
   "source": [
    "darkRed = (181,55,55)\n",
    "red = (255,0,0)\n",
    "green = (0,255,0)\n",
    "blue = (0,0,255)\n",
    "darkBlue = (0,0,128)\n",
    "white = (255,255,255)\n",
    "black = (0,0,0)\n",
    "pink = (255,200,200)"
   ]
  },
  {
   "cell_type": "markdown",
   "metadata": {},
   "source": [
    "### Set the display"
   ]
  },
  {
   "cell_type": "code",
   "execution_count": null,
   "metadata": {},
   "outputs": [],
   "source": [
    "gameDisplay = pygame.display.set_mode((display_width, display_height))"
   ]
  },
  {
   "cell_type": "markdown",
   "metadata": {},
   "source": [
    "### Set the game title"
   ]
  },
  {
   "cell_type": "code",
   "execution_count": null,
   "metadata": {},
   "outputs": [],
   "source": [
    "def game_title():\n",
    "    font = pygame.font.SysFont('snapitc', 80)\n",
    "    gameDisplay.blit(font.render('Zombie Game', True, green), ((display_width*.3), (display_height*.1)))\n",
    "    pygame.display.update()"
   ]
  },
  {
   "cell_type": "markdown",
   "metadata": {},
   "source": [
    "### Importing images - code"
   ]
  },
  {
   "cell_type": "code",
   "execution_count": null,
   "metadata": {},
   "outputs": [],
   "source": [
    "_image_library = {}\n",
    "def get_image(path):\n",
    "        global _image_library\n",
    "        image = _image_library.get(path)\n",
    "        if image == None:\n",
    "                canonicalized_path = path.replace('/', os.sep).replace('\\\\', os.sep)\n",
    "                image = pygame.image.load(canonicalized_path)\n",
    "                _image_library[path] = image\n",
    "        return image"
   ]
  },
  {
   "cell_type": "markdown",
   "metadata": {},
   "source": [
    "### The Backpack\n",
    "Let's first add an empty backpacklist here for coding purposes"
   ]
  },
  {
   "cell_type": "code",
   "execution_count": null,
   "metadata": {},
   "outputs": [],
   "source": [
    "backpack = []\n",
    "\n",
    "#set an image of the backpack:\n",
    "\n",
    "def backpack(s,t):\n",
    "    gameDisplay.blit(get_image('backpack.png'), (s, t))"
   ]
  },
  {
   "cell_type": "markdown",
   "metadata": {},
   "source": [
    "![backpack](backpack.png)"
   ]
  },
  {
   "cell_type": "markdown",
   "metadata": {},
   "source": [
    "### The Rooms\n",
    "Now let's add the 4 rooms here and their descriptions"
   ]
  },
  {
   "cell_type": "code",
   "execution_count": null,
   "metadata": {},
   "outputs": [],
   "source": [
    "kitchen = Room(\"Kitchen\")\n",
    "kitchen.set_description(\"A dark an dirty room buzzing with flies\")\n",
    "\n",
    "dining_hall = Room(\"Dining Hall\")\n",
    "dining_hall.set_description(\"A light room with a large table and lot's of comfy chairs\")\n",
    "\n",
    "ballroom = Room(\"Ballroom\")\n",
    "ballroom.set_description(\"A beautifull pink room with a dark wooden floor to dance on\")\n",
    "\n",
    "bedroom = Room(\"Bedroom\")\n",
    "bedroom.set_description(\"Small but cosy room with a huge bed in it\")\n",
    "\n",
    "\n",
    "def rooms():\n",
    "    dining_hall = pygame.draw.rect(gameDisplay, blue ,(650,600,500,300), 10)\n",
    "    ballroom = pygame.draw.rect(gameDisplay, blue ,(150,600,500,300), 10)\n",
    "    kitchen = pygame.draw.rect(gameDisplay, blue ,(650,300,500,300), 10)\n",
    "    bedroom = pygame.draw.rect(gameDisplay, blue ,(150,300,400,300), 10)\n",
    "   "
   ]
  },
  {
   "cell_type": "markdown",
   "metadata": {},
   "source": [
    "### The direction to move\n",
    "Let's define the directions with x and y coordinates here. \n",
    "- If we need to go to the south (down), we need to add a positive number here. \n",
    "- If we need to go to the north (up), we need to deduct (so a negative number) here.\n",
    "- Same goes for west (right = add) and east (left = deduct)"
   ]
  },
  {
   "cell_type": "code",
   "execution_count": null,
   "metadata": {},
   "outputs": [],
   "source": [
    "south = (0, 25)\n",
    "west = (25,0)\n",
    "north = (0, -25)\n",
    "east = (-25, 0)"
   ]
  },
  {
   "cell_type": "markdown",
   "metadata": {},
   "source": [
    "### Link the different rooms"
   ]
  },
  {
   "cell_type": "code",
   "execution_count": null,
   "metadata": {},
   "outputs": [],
   "source": [
    "kitchen.link_room(dining_hall, south)\n",
    "dining_hall.link_room(ballroom, west)\n",
    "ballroom.link_room(dining_hall, east)\n",
    "dining_hall.link_room(kitchen, north)\n",
    "bedroom.link_room(ballroom, south)\n",
    "ballroom.link_room(bedroom, north)"
   ]
  },
  {
   "cell_type": "markdown",
   "metadata": {},
   "source": [
    "### Define the monsters"
   ]
  },
  {
   "cell_type": "code",
   "execution_count": null,
   "metadata": {},
   "outputs": [],
   "source": [
    "#first a zombie, called Dave\n",
    "def zombie(x,y):\n",
    "    gameDisplay.blit(get_image('zombie2.png'), (x, y))\n",
    "    dave = Enemy(\"Dave\", \"A smelly zombie\")\n",
    "    dave.set_conversation(\"Brrlgrh... rgrhl... brains...\")\n",
    "    dave.set_weakness(\"Kitchen Knife\")\n",
    "    dining_hall.set_character(dave)\n",
    "\n",
    "#the width of the zombie picture (for coding purposes) is\n",
    "zombie_width = 110\n"
   ]
  },
  {
   "cell_type": "markdown",
   "metadata": {},
   "source": [
    "![Dave](zombie2.png)"
   ]
  },
  {
   "cell_type": "code",
   "execution_count": null,
   "metadata": {},
   "outputs": [],
   "source": [
    "#now a monster that looks like frankenstein, called Bill\n",
    "def frankenstein(w,z):\n",
    "    gameDisplay.blit(get_image('frankenstein.png'), (w, z))\n",
    "    bill = Enemy(\"Bill\", \"A monster that looks like Frankenstein\")\n",
    "    bill.set_conversation(\"AAHHHGGGRRR, I'm going to KILLLL you!!\")\n",
    "    bill.set_weakness(\"canon\")\n",
    "    bedroom.set_character(bill)\n",
    "    \n",
    "#the width of Frankenstein picture (for coding purposes) is\n",
    "bill_width = 120  "
   ]
  },
  {
   "cell_type": "markdown",
   "metadata": {},
   "source": [
    "![Bill](frankenstein.png)"
   ]
  },
  {
   "cell_type": "code",
   "execution_count": null,
   "metadata": {},
   "outputs": [],
   "source": []
  },
  {
   "cell_type": "code",
   "execution_count": null,
   "metadata": {},
   "outputs": [],
   "source": []
  },
  {
   "cell_type": "code",
   "execution_count": null,
   "metadata": {},
   "outputs": [],
   "source": [
    "kitchenknife = Item(\"Kitchen Knife\")\n",
    "kitchenknife.set_description(\"This knife can be used to cut vegetables\")\n",
    "kitchen.set_item(kitchenknife)\n",
    "\n",
    "sword = Item(\"Sword\")\n",
    "sword.set_description(\"This sword was used by the best knights in the past, now it's yours!!\")\n",
    "bedroom.set_item(sword)\n",
    "\n",
    "canon = Item(\"Canon\")\n",
    "canon.set_description(\"To do real damage, use this robust canon\")\n",
    "ballroom.set_item(canon)"
   ]
  },
  {
   "cell_type": "code",
   "execution_count": null,
   "metadata": {},
   "outputs": [],
   "source": [
    "\n",
    "\n",
    "\n",
    "\n",
    "lisa = Friend(\"Lisa\", \"a kind and warm person\")\n",
    "lisa.set_conversation(\"Hi there, do you want a hugg?\")\n",
    "kitchen.set_character(lisa)\n",
    "\n",
    "current_room = kitchen    \n",
    "\n",
    "\n",
    "\n",
    "keepGoing = True\n",
    "while keepGoing:\t\t\n",
    "    print(\"\\n\")         \n",
    "    current_room.get_details() \n",
    "    \n",
    "    item_in_room = current_room.get_item()\n",
    "    if item_in_room is not None:\n",
    "      item_in_room.get_details() \n",
    "    else:\n",
    "      print(\"There is no item in this room\")\n",
    "    #  command_item = input(\"item:\")\n",
    "    #  item_in_room(command_item)\n",
    "      \n",
    "    inhabitant = current_room.get_character()\n",
    "    if inhabitant is not None:\n",
    "      print(\"\\n\")\n",
    "      print(\"There is also someone in this room:\")\n",
    "      print(\"-----------------------------------\")\n",
    "      inhabitant.describe()\n",
    "      \n",
    "    command = input(\"> \") \n",
    "    \n",
    "    # Check whether a direction was typed\n",
    "    if command in [\"north\", \"south\", \"east\", \"west\"]:\n",
    "      current_room = current_room.move(command)\n",
    "    elif command == \"talk\":\n",
    "      inhabitant.talk()\n",
    "    elif command == \"take\":\n",
    "      print('This '+ item_in_room.name + \" will now be put in the backpack\")\n",
    "      backpack.append(item_in_room.name)\n",
    "      print(backpack)\n",
    "      current_room.set_item(None)\n",
    "    elif command == \"hugg\":\n",
    "      if inhabitant == None:\n",
    "        print(\"there is no one here to hug:(\")\n",
    "      elif isinstance(inhabitant, Enemy):\n",
    "        print(\"I wouldn't do this if I were you..... WHOHAHA!\")\n",
    "      else:\n",
    "        print(inhabitant.name + \" gives you a bigg hugg back\")\n",
    "    else:\n",
    "      if inhabitant == None or isinstance(inhabitant, Friend):\n",
    "        print(\"there is no on here to fight with! Continue to the next room\")\n",
    "      else:\n",
    "        print(\"What will you fight with?\")\n",
    "        fight_with = input()\n",
    "        if fight_with in backpack:\n",
    "          x  = inhabitant.fight(fight_with)\n",
    "          if x == False:\n",
    "            print(\"GAME OVER\")         \n",
    "            keepGoing = False\n",
    "          else:\n",
    "            print(\"Well done, you have slayed the ENEMY!!\")\n",
    "            current_room.set_character(None)\n",
    "            keepGoing = True\n",
    "        else: \n",
    "          print(\"you do not have this item in the backpack\")\n"
   ]
  },
  {
   "cell_type": "markdown",
   "metadata": {},
   "source": [
    "### Add text to the game"
   ]
  },
  {
   "cell_type": "code",
   "execution_count": 4,
   "metadata": {},
   "outputs": [],
   "source": [
    "#to know what font types we can use, type this code:\n",
    "#print(pygame.font.get_fonts())"
   ]
  },
  {
   "cell_type": "markdown",
   "metadata": {},
   "source": [
    "Let's add a message for the monsters, when they are found"
   ]
  },
  {
   "cell_type": "code",
   "execution_count": null,
   "metadata": {},
   "outputs": [],
   "source": [
    "def text_objects(text, font):\n",
    "    textSurface = font.render(text, True, red)\n",
    "    return textSurface, textSurface.get_rect()\n",
    "        \n",
    "def message_display(text):\n",
    "    largeText = pygame.font.Font('freesansbold.ttf', 55)\n",
    "    TextSurf, TextRect = text_objects(text, largeText)\n",
    "    TextRect.center = ((display_width/2), (display_height*0.8))\n",
    "    gameDisplay.blit(TextSurf, TextRect)\n",
    "    \n",
    "    pygame.display.update()\n",
    "    \n",
    "    time.sleep(2)\n",
    "    \n",
    "    game_loop()\n",
    "        \n",
    "def zombie_talk():\n",
    "    message_display(\"WHOHAHA, ARRGHHH... BRAINS...\")"
   ]
  },
  {
   "cell_type": "markdown",
   "metadata": {},
   "source": [
    "Also let's add a message to display when it's GAME OVER"
   ]
  },
  {
   "cell_type": "code",
   "execution_count": null,
   "metadata": {},
   "outputs": [],
   "source": [
    "def game_over():\n",
    "    font = pygame.font.SysFont('snapitc', 80)\n",
    "    gameDisplay.blit(font.render('GAME OVER', True, red), ((display_width*.3), (display_height*.5)))\n",
    "    pygame.display.update()\n"
   ]
  },
  {
   "cell_type": "markdown",
   "metadata": {},
   "source": [
    "## NOW THE GAME CAN START!!! "
   ]
  },
  {
   "cell_type": "code",
   "execution_count": 6,
   "metadata": {},
   "outputs": [
    {
     "ename": "KeyboardInterrupt",
     "evalue": "",
     "output_type": "error",
     "traceback": [
      "\u001b[1;31m---------------------------------------------------------------------------\u001b[0m",
      "\u001b[1;31mKeyboardInterrupt\u001b[0m                         Traceback (most recent call last)",
      "\u001b[1;32m<ipython-input-6-3253a5c182b2>\u001b[0m in \u001b[0;36m<module>\u001b[1;34m\u001b[0m\n\u001b[0;32m    129\u001b[0m             \u001b[0mclock\u001b[0m\u001b[1;33m.\u001b[0m\u001b[0mtick\u001b[0m\u001b[1;33m(\u001b[0m\u001b[1;36m60\u001b[0m\u001b[1;33m)\u001b[0m\u001b[1;33m\u001b[0m\u001b[1;33m\u001b[0m\u001b[0m\n\u001b[0;32m    130\u001b[0m \u001b[1;33m\u001b[0m\u001b[0m\n\u001b[1;32m--> 131\u001b[1;33m \u001b[0mgame_loop\u001b[0m\u001b[1;33m(\u001b[0m\u001b[1;33m)\u001b[0m\u001b[1;33m\u001b[0m\u001b[1;33m\u001b[0m\u001b[0m\n\u001b[0m\u001b[0;32m    132\u001b[0m \u001b[0mpygame\u001b[0m\u001b[1;33m.\u001b[0m\u001b[0mquit\u001b[0m\u001b[1;33m(\u001b[0m\u001b[1;33m)\u001b[0m\u001b[1;33m\u001b[0m\u001b[1;33m\u001b[0m\u001b[0m\n\u001b[0;32m    133\u001b[0m \u001b[0mquit\u001b[0m\u001b[1;33m(\u001b[0m\u001b[1;33m)\u001b[0m\u001b[1;33m\u001b[0m\u001b[1;33m\u001b[0m\u001b[0m\n",
      "\u001b[1;32m<ipython-input-6-3253a5c182b2>\u001b[0m in \u001b[0;36mgame_loop\u001b[1;34m()\u001b[0m\n\u001b[0;32m    124\u001b[0m \u001b[1;33m\u001b[0m\u001b[0m\n\u001b[0;32m    125\u001b[0m             \u001b[1;32mif\u001b[0m \u001b[0mx\u001b[0m \u001b[1;33m>\u001b[0m \u001b[0mdisplay_width\u001b[0m \u001b[1;33m-\u001b[0m \u001b[0mzombie_width\u001b[0m \u001b[1;32mor\u001b[0m \u001b[0mx\u001b[0m \u001b[1;33m<\u001b[0m \u001b[1;36m0\u001b[0m\u001b[1;33m:\u001b[0m\u001b[1;33m\u001b[0m\u001b[1;33m\u001b[0m\u001b[0m\n\u001b[1;32m--> 126\u001b[1;33m                 \u001b[0mzombie_talk\u001b[0m\u001b[1;33m(\u001b[0m\u001b[1;33m)\u001b[0m\u001b[1;33m\u001b[0m\u001b[1;33m\u001b[0m\u001b[0m\n\u001b[0m\u001b[0;32m    127\u001b[0m \u001b[1;33m\u001b[0m\u001b[0m\n\u001b[0;32m    128\u001b[0m             \u001b[1;31m#pygame.display.flip()\u001b[0m\u001b[1;33m\u001b[0m\u001b[1;33m\u001b[0m\u001b[1;33m\u001b[0m\u001b[0m\n",
      "\u001b[1;32m<ipython-input-6-3253a5c182b2>\u001b[0m in \u001b[0;36mzombie_talk\u001b[1;34m()\u001b[0m\n\u001b[0;32m     73\u001b[0m \u001b[1;33m\u001b[0m\u001b[0m\n\u001b[0;32m     74\u001b[0m \u001b[1;32mdef\u001b[0m \u001b[0mzombie_talk\u001b[0m\u001b[1;33m(\u001b[0m\u001b[1;33m)\u001b[0m\u001b[1;33m:\u001b[0m\u001b[1;33m\u001b[0m\u001b[1;33m\u001b[0m\u001b[0m\n\u001b[1;32m---> 75\u001b[1;33m     \u001b[0mmessage_display\u001b[0m\u001b[1;33m(\u001b[0m\u001b[1;34m\"WHOHAHA, ARRGHHH... BRAINS...\"\u001b[0m\u001b[1;33m)\u001b[0m\u001b[1;33m\u001b[0m\u001b[1;33m\u001b[0m\u001b[0m\n\u001b[0m\u001b[0;32m     76\u001b[0m \u001b[1;33m\u001b[0m\u001b[0m\n\u001b[0;32m     77\u001b[0m \u001b[1;32mdef\u001b[0m \u001b[0mgame_loop\u001b[0m\u001b[1;33m(\u001b[0m\u001b[1;33m)\u001b[0m\u001b[1;33m:\u001b[0m\u001b[1;33m\u001b[0m\u001b[1;33m\u001b[0m\u001b[0m\n",
      "\u001b[1;32m<ipython-input-6-3253a5c182b2>\u001b[0m in \u001b[0;36mmessage_display\u001b[1;34m(text)\u001b[0m\n\u001b[0;32m     70\u001b[0m     \u001b[0mtime\u001b[0m\u001b[1;33m.\u001b[0m\u001b[0msleep\u001b[0m\u001b[1;33m(\u001b[0m\u001b[1;36m2\u001b[0m\u001b[1;33m)\u001b[0m\u001b[1;33m\u001b[0m\u001b[1;33m\u001b[0m\u001b[0m\n\u001b[0;32m     71\u001b[0m \u001b[1;33m\u001b[0m\u001b[0m\n\u001b[1;32m---> 72\u001b[1;33m     \u001b[0mgame_loop\u001b[0m\u001b[1;33m(\u001b[0m\u001b[1;33m)\u001b[0m\u001b[1;33m\u001b[0m\u001b[1;33m\u001b[0m\u001b[0m\n\u001b[0m\u001b[0;32m     73\u001b[0m \u001b[1;33m\u001b[0m\u001b[0m\n\u001b[0;32m     74\u001b[0m \u001b[1;32mdef\u001b[0m \u001b[0mzombie_talk\u001b[0m\u001b[1;33m(\u001b[0m\u001b[1;33m)\u001b[0m\u001b[1;33m:\u001b[0m\u001b[1;33m\u001b[0m\u001b[1;33m\u001b[0m\u001b[0m\n",
      "\u001b[1;32m<ipython-input-6-3253a5c182b2>\u001b[0m in \u001b[0;36mgame_loop\u001b[1;34m()\u001b[0m\n\u001b[0;32m    127\u001b[0m \u001b[1;33m\u001b[0m\u001b[0m\n\u001b[0;32m    128\u001b[0m             \u001b[1;31m#pygame.display.flip()\u001b[0m\u001b[1;33m\u001b[0m\u001b[1;33m\u001b[0m\u001b[1;33m\u001b[0m\u001b[0m\n\u001b[1;32m--> 129\u001b[1;33m             \u001b[0mclock\u001b[0m\u001b[1;33m.\u001b[0m\u001b[0mtick\u001b[0m\u001b[1;33m(\u001b[0m\u001b[1;36m60\u001b[0m\u001b[1;33m)\u001b[0m\u001b[1;33m\u001b[0m\u001b[1;33m\u001b[0m\u001b[0m\n\u001b[0m\u001b[0;32m    130\u001b[0m \u001b[1;33m\u001b[0m\u001b[0m\n\u001b[0;32m    131\u001b[0m \u001b[0mgame_loop\u001b[0m\u001b[1;33m(\u001b[0m\u001b[1;33m)\u001b[0m\u001b[1;33m\u001b[0m\u001b[1;33m\u001b[0m\u001b[0m\n",
      "\u001b[1;31mKeyboardInterrupt\u001b[0m: "
     ]
    }
   ],
   "source": [
    "def game_loop():\n",
    "             \n",
    "    x = (display_width * 0.25)\n",
    "    y = (display_height * 0.65)\n",
    "    w = (display_width * 0.25)\n",
    "    z = (display_height * 0.35)\n",
    "\n",
    "    gameExit = False\n",
    "    \n",
    "    x_change = 0\n",
    "    y_change = 0\n",
    "    w_change = 0\n",
    "    \n",
    "    \n",
    "\n",
    "    while not gameExit:\n",
    "            for event in pygame.event.get():\n",
    "                    if event.type == pygame.QUIT:\n",
    "                            gameExit = True\n",
    "\n",
    "                    if event.type == pygame.KEYDOWN:\n",
    "                        if event.key == pygame.K_LEFT:\n",
    "                            x_change = -5\n",
    "                            w_change = -4\n",
    "                        elif event.key == pygame.K_RIGHT:\n",
    "                            x_change = 5\n",
    "                            w_change = 4\n",
    "                            y_change = 0\n",
    "\n",
    "                    if event.type == pygame.KEYUP:\n",
    "                        if event.key == pygame.K_LEFT or event.key == pygame.K_RIGHT:\n",
    "                            x_change = 0\n",
    "                            w_change = 0\n",
    "                           #y_change = -2\n",
    "\n",
    "            x += x_change\n",
    "            w += w_change\n",
    "            y += y_change\n",
    "\n",
    "            gameDisplay.fill(white)\n",
    "            zombie(x,y)\n",
    "            #backpack(s,t)\n",
    "            frankenstein(w,z)\n",
    "            rooms()\n",
    "            game_title()\n",
    "\n",
    "            pygame.display.update()\n",
    "            \n",
    "            if x > display_width - zombie_width or x < 0:\n",
    "                zombie_talk()\n",
    "            \n",
    "            #pygame.display.flip()\n",
    "            clock.tick(60)\n",
    "\n",
    "game_loop()            \n",
    "pygame.quit()  \n",
    "quit()"
   ]
  },
  {
   "cell_type": "code",
   "execution_count": null,
   "metadata": {},
   "outputs": [],
   "source": []
  },
  {
   "cell_type": "code",
   "execution_count": null,
   "metadata": {},
   "outputs": [],
   "source": []
  }
 ],
 "metadata": {
  "kernelspec": {
   "display_name": "Python 3",
   "language": "python",
   "name": "python3"
  },
  "language_info": {
   "codemirror_mode": {
    "name": "ipython",
    "version": 3
   },
   "file_extension": ".py",
   "mimetype": "text/x-python",
   "name": "python",
   "nbconvert_exporter": "python",
   "pygments_lexer": "ipython3",
   "version": "3.7.3"
  }
 },
 "nbformat": 4,
 "nbformat_minor": 2
}

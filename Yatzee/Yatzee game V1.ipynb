{
 "cells": [
  {
   "cell_type": "markdown",
   "metadata": {},
   "source": [
    "# This is a game of Yatzee \n",
    "\n",
    "Each player rolls the 5 dices and the system notes the results. \n",
    "The empty dataframe looks like this:"
   ]
  },
  {
   "cell_type": "code",
   "execution_count": 2,
   "metadata": {},
   "outputs": [],
   "source": [
    "#Import all the required libraries\n",
    "import pandas as pd\n",
    "import numpy as np\n",
    "import random as rand\n",
    "from IPython.core.display import HTML\n"
   ]
  },
  {
   "cell_type": "code",
   "execution_count": 3,
   "metadata": {},
   "outputs": [],
   "source": [
    "df1 = pd.DataFrame([[0 ,0 ,0 ,0], \n",
    "                   [0 ,0 ,0 ,0], \n",
    "                   [0 ,0 ,0 ,0], \n",
    "                   [0 ,0 ,0 ,0],\n",
    "                   [0 ,0 ,0 ,0], \n",
    "                   [0 ,0 ,0 ,0]],\n",
    "                   columns = ['Player1', 'Player2', 'Player3', 'Player4'])\n",
    "\n",
    "df2 = pd.DataFrame([['Total', 0 ,0 ,0 ,0],\n",
    "                   ['Bonus over 63 + 25', 0 ,0 ,0 ,0],\n",
    "                   ['Total A', 0 ,0 ,0 ,0], \n",
    "                   ['Single Pair', 0 ,0 ,0 ,0],\n",
    "                   ['Double Pair', 0 ,0 ,0 ,0],\n",
    "                   ['Three of a Kind', 0 ,0 ,0 ,0],\n",
    "                   ['Four of a Kind',0 ,0 ,0 ,0],\n",
    "                   ['Street (small)', 0 ,0 ,0 ,0],\n",
    "                   ['Street (big)',0 ,0 ,0 ,0],\n",
    "                   ['Full House', 0 ,0 ,0 ,0],\n",
    "                   ['Chance', 0 ,0 ,0 ,0],\n",
    "                   ['YATZEE', 0 ,0 ,0 ,0],\n",
    "                   ['Total B', 0 ,0 ,0 ,0],\n",
    "                   ['Grand Total',0 ,0 ,0 ,0]],\n",
    "                   columns = ['Explained', 'Player1', 'Player2', 'Player3', 'Player4'])\n",
    "\n",
    "# your images\n",
    "images = ['https://cdn.pixabay.com/photo/2014/04/03/11/56/dice-312625_1280.png',\n",
    "          'https://cdn.pixabay.com/photo/2014/04/03/10/24/two-310337_1280.png',\n",
    "          'https://cdn.pixabay.com/photo/2014/04/03/10/24/three-310336_1280.png', \n",
    "          'https://cdn.pixabay.com/photo/2014/04/03/10/24/dice-310335_1280.png', \n",
    "          'https://cdn.pixabay.com/photo/2014/04/03/10/24/five-310334_1280.png',\n",
    "          'https://cdn.pixabay.com/photo/2014/04/03/11/56/dice-312621_1280.png'] \n",
    "\n",
    "\n",
    "df1['YATZEE'] = images\n",
    "df = df1[['YATZEE', 'Player1', 'Player2', 'Player3', 'Player4']]\n",
    "\n",
    "# convert your links to html tags \n",
    "def path_to_image_html(path):\n",
    "    return '<img src=\"'+ path + '\" width=\"60\" >'\n",
    "\n",
    "pd.set_option('display.max_colwidth', -1)\n",
    "\n",
    "final = HTML(df.to_html(escape=False ,formatters=dict(YATZEE=path_to_image_html)))\n"
   ]
  },
  {
   "cell_type": "code",
   "execution_count": 4,
   "metadata": {},
   "outputs": [
    {
     "data": {
      "text/html": [
       "<table border=\"1\" class=\"dataframe\">\n",
       "  <thead>\n",
       "    <tr style=\"text-align: right;\">\n",
       "      <th></th>\n",
       "      <th>YATZEE</th>\n",
       "      <th>Player1</th>\n",
       "      <th>Player2</th>\n",
       "      <th>Player3</th>\n",
       "      <th>Player4</th>\n",
       "    </tr>\n",
       "  </thead>\n",
       "  <tbody>\n",
       "    <tr>\n",
       "      <th>0</th>\n",
       "      <td><img src=\"https://cdn.pixabay.com/photo/2014/04/03/11/56/dice-312625_1280.png\" width=\"60\" ></td>\n",
       "      <td>0</td>\n",
       "      <td>0</td>\n",
       "      <td>0</td>\n",
       "      <td>0</td>\n",
       "    </tr>\n",
       "    <tr>\n",
       "      <th>1</th>\n",
       "      <td><img src=\"https://cdn.pixabay.com/photo/2014/04/03/10/24/two-310337_1280.png\" width=\"60\" ></td>\n",
       "      <td>0</td>\n",
       "      <td>0</td>\n",
       "      <td>0</td>\n",
       "      <td>0</td>\n",
       "    </tr>\n",
       "    <tr>\n",
       "      <th>2</th>\n",
       "      <td><img src=\"https://cdn.pixabay.com/photo/2014/04/03/10/24/three-310336_1280.png\" width=\"60\" ></td>\n",
       "      <td>0</td>\n",
       "      <td>0</td>\n",
       "      <td>0</td>\n",
       "      <td>0</td>\n",
       "    </tr>\n",
       "    <tr>\n",
       "      <th>3</th>\n",
       "      <td><img src=\"https://cdn.pixabay.com/photo/2014/04/03/10/24/dice-310335_1280.png\" width=\"60\" ></td>\n",
       "      <td>0</td>\n",
       "      <td>0</td>\n",
       "      <td>0</td>\n",
       "      <td>0</td>\n",
       "    </tr>\n",
       "    <tr>\n",
       "      <th>4</th>\n",
       "      <td><img src=\"https://cdn.pixabay.com/photo/2014/04/03/10/24/five-310334_1280.png\" width=\"60\" ></td>\n",
       "      <td>0</td>\n",
       "      <td>0</td>\n",
       "      <td>0</td>\n",
       "      <td>0</td>\n",
       "    </tr>\n",
       "    <tr>\n",
       "      <th>5</th>\n",
       "      <td><img src=\"https://cdn.pixabay.com/photo/2014/04/03/11/56/dice-312621_1280.png\" width=\"60\" ></td>\n",
       "      <td>0</td>\n",
       "      <td>0</td>\n",
       "      <td>0</td>\n",
       "      <td>0</td>\n",
       "    </tr>\n",
       "  </tbody>\n",
       "</table>"
      ],
      "text/plain": [
       "<IPython.core.display.HTML object>"
      ]
     },
     "execution_count": 4,
     "metadata": {},
     "output_type": "execute_result"
    }
   ],
   "source": [
    "final"
   ]
  },
  {
   "cell_type": "code",
   "execution_count": 5,
   "metadata": {},
   "outputs": [
    {
     "data": {
      "text/html": [
       "<div>\n",
       "<style scoped>\n",
       "    .dataframe tbody tr th:only-of-type {\n",
       "        vertical-align: middle;\n",
       "    }\n",
       "\n",
       "    .dataframe tbody tr th {\n",
       "        vertical-align: top;\n",
       "    }\n",
       "\n",
       "    .dataframe thead th {\n",
       "        text-align: right;\n",
       "    }\n",
       "</style>\n",
       "<table border=\"1\" class=\"dataframe\">\n",
       "  <thead>\n",
       "    <tr style=\"text-align: right;\">\n",
       "      <th></th>\n",
       "      <th>YATZEE</th>\n",
       "      <th>Player1</th>\n",
       "    </tr>\n",
       "  </thead>\n",
       "  <tbody>\n",
       "    <tr>\n",
       "      <th>0</th>\n",
       "      <td>One</td>\n",
       "      <td>0</td>\n",
       "    </tr>\n",
       "    <tr>\n",
       "      <th>1</th>\n",
       "      <td>Two</td>\n",
       "      <td>0</td>\n",
       "    </tr>\n",
       "    <tr>\n",
       "      <th>2</th>\n",
       "      <td>Three</td>\n",
       "      <td>0</td>\n",
       "    </tr>\n",
       "    <tr>\n",
       "      <th>3</th>\n",
       "      <td>Four</td>\n",
       "      <td>0</td>\n",
       "    </tr>\n",
       "    <tr>\n",
       "      <th>4</th>\n",
       "      <td>Five</td>\n",
       "      <td>0</td>\n",
       "    </tr>\n",
       "    <tr>\n",
       "      <th>5</th>\n",
       "      <td>Six</td>\n",
       "      <td>0</td>\n",
       "    </tr>\n",
       "    <tr>\n",
       "      <th>6</th>\n",
       "      <td>Total</td>\n",
       "      <td>0</td>\n",
       "    </tr>\n",
       "    <tr>\n",
       "      <th>7</th>\n",
       "      <td>Bonus over 63 + 25</td>\n",
       "      <td>0</td>\n",
       "    </tr>\n",
       "    <tr>\n",
       "      <th>8</th>\n",
       "      <td>Total A</td>\n",
       "      <td>0</td>\n",
       "    </tr>\n",
       "    <tr>\n",
       "      <th>9</th>\n",
       "      <td>Single Pair</td>\n",
       "      <td>0</td>\n",
       "    </tr>\n",
       "    <tr>\n",
       "      <th>10</th>\n",
       "      <td>Double Pair</td>\n",
       "      <td>0</td>\n",
       "    </tr>\n",
       "    <tr>\n",
       "      <th>11</th>\n",
       "      <td>Three of a Kind</td>\n",
       "      <td>0</td>\n",
       "    </tr>\n",
       "    <tr>\n",
       "      <th>12</th>\n",
       "      <td>Four of a Kind</td>\n",
       "      <td>0</td>\n",
       "    </tr>\n",
       "    <tr>\n",
       "      <th>13</th>\n",
       "      <td>Street (small)</td>\n",
       "      <td>0</td>\n",
       "    </tr>\n",
       "    <tr>\n",
       "      <th>14</th>\n",
       "      <td>Street (big)</td>\n",
       "      <td>0</td>\n",
       "    </tr>\n",
       "    <tr>\n",
       "      <th>15</th>\n",
       "      <td>Full House</td>\n",
       "      <td>0</td>\n",
       "    </tr>\n",
       "    <tr>\n",
       "      <th>16</th>\n",
       "      <td>Chance</td>\n",
       "      <td>0</td>\n",
       "    </tr>\n",
       "    <tr>\n",
       "      <th>17</th>\n",
       "      <td>YATZEE</td>\n",
       "      <td>0</td>\n",
       "    </tr>\n",
       "    <tr>\n",
       "      <th>18</th>\n",
       "      <td>Total B</td>\n",
       "      <td>0</td>\n",
       "    </tr>\n",
       "    <tr>\n",
       "      <th>19</th>\n",
       "      <td>Grand Total</td>\n",
       "      <td>0</td>\n",
       "    </tr>\n",
       "  </tbody>\n",
       "</table>\n",
       "</div>"
      ],
      "text/plain": [
       "                YATZEE  Player1\n",
       "0   One                 0      \n",
       "1   Two                 0      \n",
       "2   Three               0      \n",
       "3   Four                0      \n",
       "4   Five                0      \n",
       "5   Six                 0      \n",
       "6   Total               0      \n",
       "7   Bonus over 63 + 25  0      \n",
       "8   Total A             0      \n",
       "9   Single Pair         0      \n",
       "10  Double Pair         0      \n",
       "11  Three of a Kind     0      \n",
       "12  Four of a Kind      0      \n",
       "13  Street (small)      0      \n",
       "14  Street (big)        0      \n",
       "15  Full House          0      \n",
       "16  Chance              0      \n",
       "17  YATZEE              0      \n",
       "18  Total B             0      \n",
       "19  Grand Total         0      "
      ]
     },
     "execution_count": 5,
     "metadata": {},
     "output_type": "execute_result"
    }
   ],
   "source": [
    "df = pd.DataFrame([['One', 0], \n",
    "                   ['Two', 0], \n",
    "                   ['Three', 0], \n",
    "                   ['Four', 0],\n",
    "                   ['Five', 0], \n",
    "                   ['Six', 0],\n",
    "                   ['Total', 0],\n",
    "                   ['Bonus over 63 + 25', 0],\n",
    "                   ['Total A', 0], \n",
    "                   ['Single Pair', 0],\n",
    "                   ['Double Pair', 0],\n",
    "                   ['Three of a Kind', 0],\n",
    "                   ['Four of a Kind',0],\n",
    "                   ['Street (small)', 0],\n",
    "                   ['Street (big)',0],\n",
    "                   ['Full House', 0],\n",
    "                   ['Chance', 0],\n",
    "                   ['YATZEE', 0],\n",
    "                   ['Total B', 0],\n",
    "                   ['Grand Total',0]],\n",
    "                   columns = ['YATZEE', 'Player1'])\n",
    "\n",
    "df"
   ]
  },
  {
   "cell_type": "code",
   "execution_count": 6,
   "metadata": {},
   "outputs": [],
   "source": [
    "def player():\n",
    "    while True:\n",
    "        #nr_of_players = int(input(\"How many players do you have for this game?\"))\n",
    "        #for x in rand(0, nr_of_players):\n",
    "        player = input('What is the name of the first player?')\n",
    "        df[player] = df['Player1']\n",
    "        print(f'Welcome, {player}.')\n",
    "        return player\n",
    "                  "
   ]
  },
  {
   "cell_type": "code",
   "execution_count": 7,
   "metadata": {},
   "outputs": [],
   "source": [
    "#right Let's start with the dice rolls\n",
    "#Each player will roll max 3 times. \n",
    "#If the player has a great roll before and keeps 5 dices earlier, \n",
    "#the other rolls will not be done, see function 'keeping_dice()'. \n",
    "\n",
    "def roll_1(K):\n",
    "    outcomes = []\n",
    "    y = 5 - len(K)\n",
    "    for x in range(y):\n",
    "        coin = np.random.randint(1,7)\n",
    "        outcomes.append(coin)\n",
    "        outcomes.sort()\n",
    "    \n",
    "    print('You have thrown: ' + str(outcomes))\n",
    "    return outcomes\n",
    "\n",
    "def roll_2(K):\n",
    "    outcomes2 = []\n",
    "    y = 5 - len(K)\n",
    "    for x in range(y):\n",
    "        coin = np.random.randint(1,7)\n",
    "        outcomes2.append(coin)\n",
    "        outcomes2.sort()\n",
    "    \n",
    "    print('You have thrown: ' + str(outcomes2))\n",
    "    return outcomes2\n",
    "\n",
    "def roll_3(K):\n",
    "    outcomes3 = []\n",
    "    y = 5 - len(K)\n",
    "    for x in range(y):\n",
    "        coin = np.random.randint(1,7)\n",
    "        outcomes3.append(coin)\n",
    "        outcomes3.sort()\n",
    "    \n",
    "    print('You have thrown: ' + str(outcomes3))\n",
    "    return outcomes3    \n"
   ]
  },
  {
   "cell_type": "code",
   "execution_count": 8,
   "metadata": {},
   "outputs": [],
   "source": [
    "def keeping_dice(player): \n",
    "    kept_dice = []\n",
    "    player_points = 0\n",
    "    \n",
    "    print(\"\\n The turn is now for: \" + player)\n",
    "       \n",
    "    out1 = roll_1(kept_dice)\n",
    "    keep = int(input('which dices would you like to keep?')) \n",
    "    go = True\n",
    "    \n",
    "    while go:\n",
    "        if keep in out1:\n",
    "            kept_dice.append(keep)\n",
    "            print('You have kept: ' + str(kept_dice))\n",
    "            keep = int(input('any other dices? If no, enter 8'))\n",
    "        \n",
    "        elif len(kept_dice) == 5:\n",
    "            print('You kept all dices already, we will stop rolling')\n",
    "            points = sum(kept_dice)\n",
    "            player_points += points\n",
    "            return player_points\n",
    "           \n",
    "    \n",
    "        elif keep == 8:\n",
    "            print(\"Okay, let's roll again\")\n",
    "            out2 = roll_2(kept_dice)\n",
    "            keep_2 = int(input('which dices would you like to keep?')) \n",
    "            go = False\n",
    "            go_2 = True\n",
    "    \n",
    "    while go_2:\n",
    "        if keep_2 in out2:\n",
    "            kept_dice.append(keep_2)\n",
    "            print('You have kept: ' + str(kept_dice))\n",
    "            keep_2 = int(input('any other dices? If no, enter 8'))\n",
    "                \n",
    "        elif len(kept_dice) == 5:\n",
    "            print('You have kept 5 dices now')\n",
    "            points = sum(kept_dice)\n",
    "            player_points += points\n",
    "            return player_points\n",
    "            go_2 = False\n",
    "           \n",
    "            \n",
    "        elif keep_2 == 8:\n",
    "            print(\"Okay, final roll\")\n",
    "            out3 = roll_3(kept_dice)\n",
    "            keep_3 = int(input('which dices would you like to keep?')) \n",
    "            go_2 = False\n",
    "            go_3 = True\n",
    " \n",
    "    while go_3:\n",
    "        if keep_3 in out3:\n",
    "            kept_dice.append(keep_3)\n",
    "            print('You have kept: ' + str(kept_dice))\n",
    "            keep_3 = int(input('any other dices? If no, enter 8'))\n",
    "                \n",
    "        elif len(kept_dice) == 5:\n",
    "            print('You have kept 5 dices now')\n",
    "            points = sum(kept_dice)\n",
    "            player_points += points\n",
    "            return player_points\n",
    "            go_3 = False\n",
    "            go_2 = False\n",
    "            go = False\n",
    "          \n",
    "        \n",
    "        elif keep_3 == 8:\n",
    "            print('Okay, we will stop now')\n",
    "            points = sum(kept_dice)\n",
    "            player_points += points\n",
    "            return player_points\n",
    "            go_3 = False\n",
    "            go_2 = False\n",
    "            go = False\n",
    "    \n",
    "    "
   ]
  },
  {
   "cell_type": "code",
   "execution_count": 9,
   "metadata": {},
   "outputs": [
    {
     "name": "stdin",
     "output_type": "stream",
     "text": [
      "What is the name of the first player? Noa\n"
     ]
    },
    {
     "name": "stdout",
     "output_type": "stream",
     "text": [
      "Welcome, Noa.\n"
     ]
    },
    {
     "name": "stdin",
     "output_type": "stream",
     "text": [
      "What is the name of the first player? Vince\n"
     ]
    },
    {
     "name": "stdout",
     "output_type": "stream",
     "text": [
      "Welcome, Vince.\n",
      "Let's start this game, first is: Noa\n",
      "You have thrown: [2, 2, 3, 4, 6]\n"
     ]
    },
    {
     "name": "stdin",
     "output_type": "stream",
     "text": [
      "which dices would you like to keep? 2\n"
     ]
    },
    {
     "name": "stdout",
     "output_type": "stream",
     "text": [
      "You have kept: [2]\n"
     ]
    },
    {
     "name": "stdin",
     "output_type": "stream",
     "text": [
      "any other dices? If no, enter 8 2\n"
     ]
    },
    {
     "name": "stdout",
     "output_type": "stream",
     "text": [
      "You have kept: [2, 2]\n"
     ]
    },
    {
     "name": "stdin",
     "output_type": "stream",
     "text": [
      "any other dices? If no, enter 8 8\n"
     ]
    },
    {
     "name": "stdout",
     "output_type": "stream",
     "text": [
      "Okay, let's roll again\n",
      "You have thrown: [3, 3, 4]\n"
     ]
    },
    {
     "name": "stdin",
     "output_type": "stream",
     "text": [
      "which dices would you like to keep? 8\n"
     ]
    },
    {
     "name": "stdout",
     "output_type": "stream",
     "text": [
      "Okay, final roll\n",
      "You have thrown: [1, 5, 5]\n"
     ]
    },
    {
     "name": "stdin",
     "output_type": "stream",
     "text": [
      "which dices would you like to keep? 8\n"
     ]
    },
    {
     "name": "stdout",
     "output_type": "stream",
     "text": [
      "Okay, we will stop now\n",
      "Let's start this game, first is: Vince\n",
      "You have thrown: [2, 2, 3, 4, 6]\n"
     ]
    },
    {
     "name": "stdin",
     "output_type": "stream",
     "text": [
      "which dices would you like to keep? 2\n"
     ]
    },
    {
     "name": "stdout",
     "output_type": "stream",
     "text": [
      "You have kept: [2]\n"
     ]
    },
    {
     "name": "stdin",
     "output_type": "stream",
     "text": [
      "any other dices? If no, enter 8 2\n"
     ]
    },
    {
     "name": "stdout",
     "output_type": "stream",
     "text": [
      "You have kept: [2, 2]\n"
     ]
    },
    {
     "name": "stdin",
     "output_type": "stream",
     "text": [
      "any other dices? If no, enter 8 8\n"
     ]
    },
    {
     "name": "stdout",
     "output_type": "stream",
     "text": [
      "Okay, let's roll again\n",
      "You have thrown: [4, 5, 5]\n"
     ]
    },
    {
     "name": "stdin",
     "output_type": "stream",
     "text": [
      "which dices would you like to keep? 5\n"
     ]
    },
    {
     "name": "stdout",
     "output_type": "stream",
     "text": [
      "You have kept: [2, 2, 5]\n"
     ]
    },
    {
     "name": "stdin",
     "output_type": "stream",
     "text": [
      "any other dices? If no, enter 8 5\n"
     ]
    },
    {
     "name": "stdout",
     "output_type": "stream",
     "text": [
      "You have kept: [2, 2, 5, 5]\n"
     ]
    },
    {
     "name": "stdin",
     "output_type": "stream",
     "text": [
      "any other dices? If no, enter 8 8\n"
     ]
    },
    {
     "name": "stdout",
     "output_type": "stream",
     "text": [
      "Okay, final roll\n",
      "You have thrown: [4]\n"
     ]
    },
    {
     "name": "stdin",
     "output_type": "stream",
     "text": [
      "which dices would you like to keep? 8\n"
     ]
    },
    {
     "name": "stdout",
     "output_type": "stream",
     "text": [
      "Okay, we will stop now\n",
      "                YATZEE  Player1  Noa  Vince\n",
      "0   One                 0        0    0    \n",
      "1   Two                 0        4    14   \n",
      "2   Three               0        0    0    \n",
      "3   Four                0        0    0    \n",
      "4   Five                0        0    0    \n",
      "5   Six                 0        0    0    \n",
      "6   Total               0        0    0    \n",
      "7   Bonus over 63 + 25  0        0    0    \n",
      "8   Total A             0        0    0    \n",
      "9   Single Pair         0        0    0    \n",
      "10  Double Pair         0        0    0    \n",
      "11  Three of a Kind     0        0    0    \n",
      "12  Four of a Kind      0        0    0    \n",
      "13  Street (small)      0        0    0    \n",
      "14  Street (big)        0        0    0    \n",
      "15  Full House          0        0    0    \n",
      "16  Chance              0        0    0    \n",
      "17  YATZEE              0        0    0    \n",
      "18  Total B             0        0    0    \n",
      "19  Grand Total         0        0    0    \n"
     ]
    }
   ],
   "source": [
    "def main():\n",
    "    player1 = player()\n",
    "    player2 = player()\n",
    "    df.drop('Player1', axis=1) \n",
    "    player1_turn = keeping_dice(player1)\n",
    "    df.at[0, player1] = player1_turn\n",
    "    kept_dice = []\n",
    "    player2_turn = keeping_dice(player2)\n",
    "    df.at[0, player2] = player2_turn\n",
    "    \n",
    "if __name__ == '__main__':\n",
    "    main()    \n",
    "    \n",
    "df = df.drop('Player1', axis=1) \n",
    "df"
   ]
  },
  {
   "cell_type": "code",
   "execution_count": null,
   "metadata": {},
   "outputs": [],
   "source": []
  },
  {
   "cell_type": "code",
   "execution_count": null,
   "metadata": {},
   "outputs": [],
   "source": []
  }
 ],
 "metadata": {
  "kernelspec": {
   "display_name": "Python 3",
   "language": "python",
   "name": "python3"
  },
  "language_info": {
   "codemirror_mode": {
    "name": "ipython",
    "version": 3
   },
   "file_extension": ".py",
   "mimetype": "text/x-python",
   "name": "python",
   "nbconvert_exporter": "python",
   "pygments_lexer": "ipython3",
   "version": "3.7.3"
  }
 },
 "nbformat": 4,
 "nbformat_minor": 2
}

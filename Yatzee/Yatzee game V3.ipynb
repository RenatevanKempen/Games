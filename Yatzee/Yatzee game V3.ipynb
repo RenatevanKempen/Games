{
 "cells": [
  {
   "cell_type": "markdown",
   "metadata": {},
   "source": [
    "# This is a game of Yatzee \n",
    "\n",
    "Each player rolls the 5 dices max three times and the system notes the sum of the total number of the dices you kept.\n",
    "\n",
    "\n",
    "For example: \n",
    "- First turn, you throw: '6,6,4,4,5'\n",
    "- You want to keep: '6,6'\n",
    "- Second turn you throw: '4,5,1'\n",
    "- You do not keep any dices\n",
    "- Last turn, you throw: '1,1,6'\n",
    "- You keep: '6', so in total you kept 3 x '6'. \n",
    "- The system stores the sum of 3 x '6' in the dataframe under the '6' as '18'. \n",
    "\n",
    "\n",
    "The empty dataframe looks like this:"
   ]
  },
  {
   "cell_type": "code",
   "execution_count": 1,
   "metadata": {},
   "outputs": [],
   "source": [
    "#Import all the required libraries\n",
    "import pandas as pd\n",
    "import numpy as np\n",
    "import random as rand\n",
    "from IPython.core.display import HTML\n"
   ]
  },
  {
   "cell_type": "code",
   "execution_count": 2,
   "metadata": {},
   "outputs": [],
   "source": [
    "df = pd.DataFrame([['One', 0], \n",
    "                   ['Two', 0], \n",
    "                   ['Three', 0], \n",
    "                   ['Four', 0],\n",
    "                   ['Five', 0], \n",
    "                   ['Six', 0]],\n",
    "                  columns = ['Explained', 'Player1'])\n",
    "\n",
    "\n",
    "# your images\n",
    "images = ['https://cdn.pixabay.com/photo/2014/04/03/11/56/dice-312625_1280.png',\n",
    "          'https://cdn.pixabay.com/photo/2014/04/03/10/24/two-310337_1280.png',\n",
    "          'https://cdn.pixabay.com/photo/2014/04/03/10/24/three-310336_1280.png', \n",
    "          'https://cdn.pixabay.com/photo/2014/04/03/10/24/dice-310335_1280.png', \n",
    "          'https://cdn.pixabay.com/photo/2014/04/03/10/24/five-310334_1280.png',\n",
    "          'https://cdn.pixabay.com/photo/2014/04/03/11/56/dice-312621_1280.png'] \n",
    "\n",
    "df1 = df[['Player1']]\n",
    "df1['YATZEE'] = images\n",
    "\n",
    "# convert your links to html tags \n",
    "def path_to_image_html(path):\n",
    "    return '<img src=\"'+ path + '\" width=\"60\" >'\n",
    "\n",
    "pd.set_option('display.max_colwidth', -1)\n",
    "\n",
    "df1 = HTML(df.to_html(escape=False ,formatters=dict(YATZEE=path_to_image_html)))\n"
   ]
  },
  {
   "cell_type": "code",
   "execution_count": 3,
   "metadata": {},
   "outputs": [
    {
     "data": {
      "text/html": [
       "<div>\n",
       "<style scoped>\n",
       "    .dataframe tbody tr th:only-of-type {\n",
       "        vertical-align: middle;\n",
       "    }\n",
       "\n",
       "    .dataframe tbody tr th {\n",
       "        vertical-align: top;\n",
       "    }\n",
       "\n",
       "    .dataframe thead th {\n",
       "        text-align: right;\n",
       "    }\n",
       "</style>\n",
       "<table border=\"1\" class=\"dataframe\">\n",
       "  <thead>\n",
       "    <tr style=\"text-align: right;\">\n",
       "      <th></th>\n",
       "      <th>Explained</th>\n",
       "      <th>Player1</th>\n",
       "    </tr>\n",
       "  </thead>\n",
       "  <tbody>\n",
       "    <tr>\n",
       "      <th>0</th>\n",
       "      <td>One</td>\n",
       "      <td>0</td>\n",
       "    </tr>\n",
       "    <tr>\n",
       "      <th>1</th>\n",
       "      <td>Two</td>\n",
       "      <td>0</td>\n",
       "    </tr>\n",
       "    <tr>\n",
       "      <th>2</th>\n",
       "      <td>Three</td>\n",
       "      <td>0</td>\n",
       "    </tr>\n",
       "    <tr>\n",
       "      <th>3</th>\n",
       "      <td>Four</td>\n",
       "      <td>0</td>\n",
       "    </tr>\n",
       "    <tr>\n",
       "      <th>4</th>\n",
       "      <td>Five</td>\n",
       "      <td>0</td>\n",
       "    </tr>\n",
       "    <tr>\n",
       "      <th>5</th>\n",
       "      <td>Six</td>\n",
       "      <td>0</td>\n",
       "    </tr>\n",
       "  </tbody>\n",
       "</table>\n",
       "</div>"
      ],
      "text/plain": [
       "  Explained  Player1\n",
       "0  One       0      \n",
       "1  Two       0      \n",
       "2  Three     0      \n",
       "3  Four      0      \n",
       "4  Five      0      \n",
       "5  Six       0      "
      ]
     },
     "execution_count": 3,
     "metadata": {},
     "output_type": "execute_result"
    }
   ],
   "source": [
    "df"
   ]
  },
  {
   "cell_type": "code",
   "execution_count": 4,
   "metadata": {},
   "outputs": [],
   "source": [
    "def player():\n",
    "    while True:\n",
    "        #nr_of_players = int(input(\"How many players do you have for this game?\"))\n",
    "        #for x in rand(0, nr_of_players):\n",
    "        player = input('What is the name of the player?')\n",
    "        df[player] = df['Player1']\n",
    "        print(f'Welcome, {player}.\\n')\n",
    "        return player\n",
    "                  "
   ]
  },
  {
   "cell_type": "code",
   "execution_count": 5,
   "metadata": {},
   "outputs": [],
   "source": [
    "#right Let's start with the dice rolls\n",
    "#Each player will roll max 3 times. \n",
    "#If the player has a great roll before and keeps 5 dices earlier, \n",
    "#the other rolls will not be done, see function 'keeping_dice()'. \n",
    "\n",
    "def roll_1(K):\n",
    "    outcomes = []\n",
    "    y = 5 - len(K)\n",
    "    for x in range(y):\n",
    "        coin = np.random.randint(1,7)\n",
    "        outcomes.append(coin)\n",
    "        outcomes.sort()\n",
    "    \n",
    "    print('You have thrown: ' + str(outcomes))\n",
    "    return outcomes\n",
    "\n",
    "def roll_2(K):\n",
    "    outcomes2 = []\n",
    "    y = 5 - len(K)\n",
    "    for x in range(y):\n",
    "        coin = np.random.randint(1,7)\n",
    "        outcomes2.append(coin)\n",
    "        outcomes2.sort()\n",
    "    \n",
    "    print('You have thrown: ' + str(outcomes2))\n",
    "    return outcomes2\n",
    "\n",
    "def roll_3(K):\n",
    "    outcomes3 = []\n",
    "    y = 5 - len(K)\n",
    "    for x in range(y):\n",
    "        coin = np.random.randint(1,7)\n",
    "        outcomes3.append(coin)\n",
    "        outcomes3.sort()\n",
    "    \n",
    "    print('You have thrown: ' + str(outcomes3))\n",
    "    return outcomes3    \n"
   ]
  },
  {
   "cell_type": "code",
   "execution_count": 6,
   "metadata": {},
   "outputs": [],
   "source": [
    "def keeping_dice(player): \n",
    "    kept_dice = []\n",
    "    player_points = 0\n",
    "    \n",
    "    print(\"\\n The turn is now for: \" + player)\n",
    "       \n",
    "    out1 = roll_1(kept_dice)\n",
    "    keep = int(input('which dices would you like to keep?')) \n",
    "    go = True\n",
    "    \n",
    "    while go:\n",
    "        if keep in out1:\n",
    "            kept_dice.append(keep)\n",
    "            print('You have kept: ' + str(kept_dice))\n",
    "            keep = int(input('any other dices? If no, enter 8'))\n",
    "        \n",
    "        elif len(kept_dice) == 5:\n",
    "            print('You kept all dices already, we will stop rolling')\n",
    "            points = sum(kept_dice)\n",
    "            player_points += points\n",
    "            keep_in_nr = kept_dice[0]\n",
    "            return player_points, keep_in_nr \n",
    "           \n",
    "    \n",
    "        elif keep == 8:\n",
    "            print(\"Okay, let's roll again\")\n",
    "            out2 = roll_2(kept_dice)\n",
    "            keep_2 = int(input('which dices would you like to keep?')) \n",
    "            go = False\n",
    "            go_2 = True\n",
    "            \n",
    "        else:\n",
    "            print('Okay, your turn ends here')\n",
    "            points = sum(kept_dice)\n",
    "            player_points += points\n",
    "            keep_in_nr = kept_dice[0]\n",
    "            return player_points, keep_in_nr \n",
    "            go_3 = False\n",
    "            go_2 = False\n",
    "            go = False\n",
    "    \n",
    "    while go_2:\n",
    "        if keep_2 in out2:\n",
    "            kept_dice.append(keep_2)\n",
    "            print('You have kept: ' + str(kept_dice))\n",
    "            keep_2 = int(input('any other dices? If no, enter 8'))\n",
    "                \n",
    "        elif len(kept_dice) == 5:\n",
    "            print('You have kept 5 dices now')\n",
    "            points = sum(kept_dice)\n",
    "            player_points += points\n",
    "            keep_in_nr = kept_dice[0]\n",
    "            return player_points, keep_in_nr \n",
    "            go_2 = False\n",
    "           \n",
    "            \n",
    "        elif keep_2 == 8:\n",
    "            print(\"Okay, final roll\")\n",
    "            out3 = roll_3(kept_dice)\n",
    "            keep_3 = int(input('which dices would you like to keep?')) \n",
    "            go_2 = False\n",
    "            go_3 = True\n",
    "            \n",
    "        else:\n",
    "            print('Okay, your turn ends here')\n",
    "            points = sum(kept_dice)\n",
    "            player_points += points\n",
    "            keep_in_nr = kept_dice[0]\n",
    "            return player_points, keep_in_nr \n",
    "            go_3 = False\n",
    "            go_2 = False\n",
    "            go = False\n",
    " \n",
    "    while go_3:\n",
    "        if keep_3 in out3:\n",
    "            kept_dice.append(keep_3)\n",
    "            print('You have kept: ' + str(kept_dice))\n",
    "            keep_3 = int(input('any other dices? If no, enter 8'))\n",
    "                \n",
    "        elif len(kept_dice) == 5:\n",
    "            print('You have kept 5 dices now')\n",
    "            points = sum(kept_dice)\n",
    "            player_points += points\n",
    "            keep_in_nr = kept_dice[0]\n",
    "            return player_points, keep_in_nr \n",
    "            go_3 = False\n",
    "            go_2 = False\n",
    "            go = False\n",
    "          \n",
    "        \n",
    "        elif keep_3 == 8:\n",
    "            print('Okay, we will stop now')\n",
    "            points = sum(kept_dice)\n",
    "            player_points += points\n",
    "            keep_in_nr = kept_dice[0]\n",
    "            return player_points, keep_in_nr \n",
    "            go_3 = False\n",
    "            go_2 = False\n",
    "            go = False\n",
    "        \n",
    "        else:\n",
    "            print('Okay, your turn ends here')\n",
    "            points = sum(kept_dice)\n",
    "            player_points += points\n",
    "            keep_in_nr = kept_dice[0]\n",
    "            return player_points, keep_in_nr \n",
    "            go_3 = False\n",
    "            go_2 = False\n",
    "            go = False\n",
    "    "
   ]
  },
  {
   "cell_type": "code",
   "execution_count": 7,
   "metadata": {},
   "outputs": [
    {
     "name": "stdin",
     "output_type": "stream",
     "text": [
      "What is the name of the player? GMT\n"
     ]
    },
    {
     "name": "stdout",
     "output_type": "stream",
     "text": [
      "Welcome, GMT.\n",
      "\n"
     ]
    },
    {
     "name": "stdin",
     "output_type": "stream",
     "text": [
      "What is the name of the player? RVK\n"
     ]
    },
    {
     "name": "stdout",
     "output_type": "stream",
     "text": [
      "Welcome, RVK.\n",
      "\n",
      "\n",
      " The turn is now for: GMT\n",
      "You have thrown: [1, 1, 3, 3, 4]\n"
     ]
    },
    {
     "name": "stdin",
     "output_type": "stream",
     "text": [
      "which dices would you like to keep? 1\n"
     ]
    },
    {
     "name": "stdout",
     "output_type": "stream",
     "text": [
      "You have kept: [1]\n"
     ]
    },
    {
     "name": "stdin",
     "output_type": "stream",
     "text": [
      "any other dices? If no, enter 8 1\n"
     ]
    },
    {
     "name": "stdout",
     "output_type": "stream",
     "text": [
      "You have kept: [1, 1]\n"
     ]
    },
    {
     "name": "stdin",
     "output_type": "stream",
     "text": [
      "any other dices? If no, enter 8 8\n"
     ]
    },
    {
     "name": "stdout",
     "output_type": "stream",
     "text": [
      "Okay, let's roll again\n",
      "You have thrown: [2, 2, 5]\n"
     ]
    },
    {
     "name": "stdin",
     "output_type": "stream",
     "text": [
      "which dices would you like to keep? 8\n"
     ]
    },
    {
     "name": "stdout",
     "output_type": "stream",
     "text": [
      "Okay, final roll\n",
      "You have thrown: [1, 3, 5]\n"
     ]
    },
    {
     "name": "stdin",
     "output_type": "stream",
     "text": [
      "which dices would you like to keep? 1\n"
     ]
    },
    {
     "name": "stdout",
     "output_type": "stream",
     "text": [
      "You have kept: [1, 1, 1]\n"
     ]
    },
    {
     "name": "stdin",
     "output_type": "stream",
     "text": [
      "any other dices? If no, enter 8 8\n"
     ]
    },
    {
     "name": "stdout",
     "output_type": "stream",
     "text": [
      "Okay, we will stop now\n",
      "\n",
      " The turn is now for: RVK\n",
      "You have thrown: [1, 2, 3, 4, 4]\n"
     ]
    },
    {
     "name": "stdin",
     "output_type": "stream",
     "text": [
      "which dices would you like to keep? 4\n"
     ]
    },
    {
     "name": "stdout",
     "output_type": "stream",
     "text": [
      "You have kept: [4]\n"
     ]
    },
    {
     "name": "stdin",
     "output_type": "stream",
     "text": [
      "any other dices? If no, enter 8 4\n"
     ]
    },
    {
     "name": "stdout",
     "output_type": "stream",
     "text": [
      "You have kept: [4, 4]\n"
     ]
    },
    {
     "name": "stdin",
     "output_type": "stream",
     "text": [
      "any other dices? If no, enter 8 8\n"
     ]
    },
    {
     "name": "stdout",
     "output_type": "stream",
     "text": [
      "Okay, let's roll again\n",
      "You have thrown: [1, 1, 5]\n"
     ]
    },
    {
     "name": "stdin",
     "output_type": "stream",
     "text": [
      "which dices would you like to keep? 8\n"
     ]
    },
    {
     "name": "stdout",
     "output_type": "stream",
     "text": [
      "Okay, final roll\n",
      "You have thrown: [3, 5, 6]\n"
     ]
    },
    {
     "name": "stdin",
     "output_type": "stream",
     "text": [
      "which dices would you like to keep? 8\n"
     ]
    },
    {
     "name": "stdout",
     "output_type": "stream",
     "text": [
      "Okay, we will stop now\n",
      "\n",
      " The turn is now for: GMT\n",
      "You have thrown: [1, 3, 4, 5, 5]\n"
     ]
    },
    {
     "name": "stdin",
     "output_type": "stream",
     "text": [
      "which dices would you like to keep? 5\n"
     ]
    },
    {
     "name": "stdout",
     "output_type": "stream",
     "text": [
      "You have kept: [5]\n"
     ]
    },
    {
     "name": "stdin",
     "output_type": "stream",
     "text": [
      "any other dices? If no, enter 8 5\n"
     ]
    },
    {
     "name": "stdout",
     "output_type": "stream",
     "text": [
      "You have kept: [5, 5]\n"
     ]
    },
    {
     "name": "stdin",
     "output_type": "stream",
     "text": [
      "any other dices? If no, enter 8 8\n"
     ]
    },
    {
     "name": "stdout",
     "output_type": "stream",
     "text": [
      "Okay, let's roll again\n",
      "You have thrown: [1, 4, 4]\n"
     ]
    },
    {
     "name": "stdin",
     "output_type": "stream",
     "text": [
      "which dices would you like to keep? 8\n"
     ]
    },
    {
     "name": "stdout",
     "output_type": "stream",
     "text": [
      "Okay, final roll\n",
      "You have thrown: [1, 3, 4]\n"
     ]
    },
    {
     "name": "stdin",
     "output_type": "stream",
     "text": [
      "which dices would you like to keep? 8\n"
     ]
    },
    {
     "name": "stdout",
     "output_type": "stream",
     "text": [
      "Okay, we will stop now\n",
      "\n",
      " The turn is now for: RVK\n",
      "You have thrown: [1, 3, 5, 5, 6]\n"
     ]
    },
    {
     "name": "stdin",
     "output_type": "stream",
     "text": [
      "which dices would you like to keep? 5\n"
     ]
    },
    {
     "name": "stdout",
     "output_type": "stream",
     "text": [
      "You have kept: [5]\n"
     ]
    },
    {
     "name": "stdin",
     "output_type": "stream",
     "text": [
      "any other dices? If no, enter 8 5\n"
     ]
    },
    {
     "name": "stdout",
     "output_type": "stream",
     "text": [
      "You have kept: [5, 5]\n"
     ]
    },
    {
     "name": "stdin",
     "output_type": "stream",
     "text": [
      "any other dices? If no, enter 8 8\n"
     ]
    },
    {
     "name": "stdout",
     "output_type": "stream",
     "text": [
      "Okay, let's roll again\n",
      "You have thrown: [4, 4, 6]\n"
     ]
    },
    {
     "name": "stdin",
     "output_type": "stream",
     "text": [
      "which dices would you like to keep? 8\n"
     ]
    },
    {
     "name": "stdout",
     "output_type": "stream",
     "text": [
      "Okay, final roll\n",
      "You have thrown: [1, 5, 6]\n"
     ]
    },
    {
     "name": "stdin",
     "output_type": "stream",
     "text": [
      "which dices would you like to keep? 5\n"
     ]
    },
    {
     "name": "stdout",
     "output_type": "stream",
     "text": [
      "You have kept: [5, 5, 5]\n"
     ]
    },
    {
     "name": "stdin",
     "output_type": "stream",
     "text": [
      "any other dices? If no, enter 8 8\n"
     ]
    },
    {
     "name": "stdout",
     "output_type": "stream",
     "text": [
      "Okay, we will stop now\n",
      "\n",
      " The turn is now for: GMT\n",
      "You have thrown: [2, 3, 4, 5, 6]\n"
     ]
    },
    {
     "name": "stdin",
     "output_type": "stream",
     "text": [
      "which dices would you like to keep? 6\n"
     ]
    },
    {
     "name": "stdout",
     "output_type": "stream",
     "text": [
      "You have kept: [6]\n"
     ]
    },
    {
     "name": "stdin",
     "output_type": "stream",
     "text": [
      "any other dices? If no, enter 8 8\n"
     ]
    },
    {
     "name": "stdout",
     "output_type": "stream",
     "text": [
      "Okay, let's roll again\n",
      "You have thrown: [4, 4, 5, 6]\n"
     ]
    },
    {
     "name": "stdin",
     "output_type": "stream",
     "text": [
      "which dices would you like to keep? 6\n"
     ]
    },
    {
     "name": "stdout",
     "output_type": "stream",
     "text": [
      "You have kept: [6, 6]\n"
     ]
    },
    {
     "name": "stdin",
     "output_type": "stream",
     "text": [
      "any other dices? If no, enter 8 8\n"
     ]
    },
    {
     "name": "stdout",
     "output_type": "stream",
     "text": [
      "Okay, final roll\n",
      "You have thrown: [1, 2, 6]\n"
     ]
    },
    {
     "name": "stdin",
     "output_type": "stream",
     "text": [
      "which dices would you like to keep? 6\n"
     ]
    },
    {
     "name": "stdout",
     "output_type": "stream",
     "text": [
      "You have kept: [6, 6, 6]\n"
     ]
    },
    {
     "name": "stdin",
     "output_type": "stream",
     "text": [
      "any other dices? If no, enter 8 8\n"
     ]
    },
    {
     "name": "stdout",
     "output_type": "stream",
     "text": [
      "Okay, we will stop now\n",
      "\n",
      " The turn is now for: RVK\n",
      "You have thrown: [1, 2, 4, 5, 6]\n"
     ]
    },
    {
     "name": "stdin",
     "output_type": "stream",
     "text": [
      "which dices would you like to keep? 6\n"
     ]
    },
    {
     "name": "stdout",
     "output_type": "stream",
     "text": [
      "You have kept: [6]\n"
     ]
    },
    {
     "name": "stdin",
     "output_type": "stream",
     "text": [
      "any other dices? If no, enter 8 8\n"
     ]
    },
    {
     "name": "stdout",
     "output_type": "stream",
     "text": [
      "Okay, let's roll again\n",
      "You have thrown: [1, 2, 3, 6]\n"
     ]
    },
    {
     "name": "stdin",
     "output_type": "stream",
     "text": [
      "which dices would you like to keep? 6\n"
     ]
    },
    {
     "name": "stdout",
     "output_type": "stream",
     "text": [
      "You have kept: [6, 6]\n"
     ]
    },
    {
     "name": "stdin",
     "output_type": "stream",
     "text": [
      "any other dices? If no, enter 8 8\n"
     ]
    },
    {
     "name": "stdout",
     "output_type": "stream",
     "text": [
      "Okay, final roll\n",
      "You have thrown: [2, 4, 6]\n"
     ]
    },
    {
     "name": "stdin",
     "output_type": "stream",
     "text": [
      "which dices would you like to keep? 6\n"
     ]
    },
    {
     "name": "stdout",
     "output_type": "stream",
     "text": [
      "You have kept: [6, 6, 6]\n"
     ]
    },
    {
     "name": "stdin",
     "output_type": "stream",
     "text": [
      "any other dices? If no, enter 8 8\n"
     ]
    },
    {
     "name": "stdout",
     "output_type": "stream",
     "text": [
      "Okay, we will stop now\n"
     ]
    }
   ],
   "source": [
    "def main():\n",
    "    player1 = player()\n",
    "    player2 = player()\n",
    "    game_on = True\n",
    "    total_turns = 3\n",
    "    z = 0\n",
    "    while game_on:\n",
    "        if z == total_turns:\n",
    "            game_on = False\n",
    "           # __name__ != '__main__'\n",
    "        else:\n",
    "            player1_turn, nr_kept1 = keeping_dice(player1)\n",
    "            x = nr_kept1 - 1\n",
    "            df.at[x, player1] = player1_turn\n",
    "            kept_dice = []\n",
    "            player2_turn, nr_kept2 = keeping_dice(player2)\n",
    "            y = nr_kept2 - 1\n",
    "            df.at[y, player2] = player2_turn\n",
    "            z += 1\n",
    "\n",
    "            \n",
    "    \n",
    "if __name__ == '__main__':\n",
    "    main()    \n",
    "    \n"
   ]
  },
  {
   "cell_type": "code",
   "execution_count": 8,
   "metadata": {},
   "outputs": [
    {
     "data": {
      "text/html": [
       "<div>\n",
       "<style scoped>\n",
       "    .dataframe tbody tr th:only-of-type {\n",
       "        vertical-align: middle;\n",
       "    }\n",
       "\n",
       "    .dataframe tbody tr th {\n",
       "        vertical-align: top;\n",
       "    }\n",
       "\n",
       "    .dataframe thead th {\n",
       "        text-align: right;\n",
       "    }\n",
       "</style>\n",
       "<table border=\"1\" class=\"dataframe\">\n",
       "  <thead>\n",
       "    <tr style=\"text-align: right;\">\n",
       "      <th></th>\n",
       "      <th>Explained</th>\n",
       "      <th>GMT</th>\n",
       "      <th>RVK</th>\n",
       "    </tr>\n",
       "  </thead>\n",
       "  <tbody>\n",
       "    <tr>\n",
       "      <th>0</th>\n",
       "      <td>One</td>\n",
       "      <td>3</td>\n",
       "      <td>0</td>\n",
       "    </tr>\n",
       "    <tr>\n",
       "      <th>1</th>\n",
       "      <td>Two</td>\n",
       "      <td>0</td>\n",
       "      <td>0</td>\n",
       "    </tr>\n",
       "    <tr>\n",
       "      <th>2</th>\n",
       "      <td>Three</td>\n",
       "      <td>0</td>\n",
       "      <td>0</td>\n",
       "    </tr>\n",
       "    <tr>\n",
       "      <th>3</th>\n",
       "      <td>Four</td>\n",
       "      <td>0</td>\n",
       "      <td>8</td>\n",
       "    </tr>\n",
       "    <tr>\n",
       "      <th>4</th>\n",
       "      <td>Five</td>\n",
       "      <td>10</td>\n",
       "      <td>15</td>\n",
       "    </tr>\n",
       "    <tr>\n",
       "      <th>5</th>\n",
       "      <td>Six</td>\n",
       "      <td>18</td>\n",
       "      <td>18</td>\n",
       "    </tr>\n",
       "  </tbody>\n",
       "</table>\n",
       "</div>"
      ],
      "text/plain": [
       "  Explained  GMT  RVK\n",
       "0  One       3    0  \n",
       "1  Two       0    0  \n",
       "2  Three     0    0  \n",
       "3  Four      0    8  \n",
       "4  Five      10   15 \n",
       "5  Six       18   18 "
      ]
     },
     "execution_count": 8,
     "metadata": {},
     "output_type": "execute_result"
    }
   ],
   "source": [
    "df = df.drop('Player1', axis=1) \n",
    "df"
   ]
  },
  {
   "cell_type": "code",
   "execution_count": 9,
   "metadata": {},
   "outputs": [],
   "source": [
    "final = df\n",
    "# your images\n",
    "images = ['https://cdn.pixabay.com/photo/2014/04/03/11/56/dice-312625_1280.png',\n",
    "          'https://cdn.pixabay.com/photo/2014/04/03/10/24/two-310337_1280.png',\n",
    "          'https://cdn.pixabay.com/photo/2014/04/03/10/24/three-310336_1280.png', \n",
    "          'https://cdn.pixabay.com/photo/2014/04/03/10/24/dice-310335_1280.png', \n",
    "          'https://cdn.pixabay.com/photo/2014/04/03/10/24/five-310334_1280.png',\n",
    "          'https://cdn.pixabay.com/photo/2014/04/03/11/56/dice-312621_1280.png'] \n",
    "\n",
    "final['Explained'] = images\n",
    "\n",
    "# convert your links to html tags \n",
    "def path_to_image_html(path):\n",
    "    return '<img src=\"'+ path + '\" width=\"60\" >'\n",
    "\n",
    "pd.set_option('display.max_colwidth', -1)\n",
    "\n",
    "final = HTML(final.to_html(escape=False ,formatters=dict(Explained=path_to_image_html)))"
   ]
  },
  {
   "cell_type": "code",
   "execution_count": 10,
   "metadata": {},
   "outputs": [
    {
     "data": {
      "text/html": [
       "<table border=\"1\" class=\"dataframe\">\n",
       "  <thead>\n",
       "    <tr style=\"text-align: right;\">\n",
       "      <th></th>\n",
       "      <th>Explained</th>\n",
       "      <th>GMT</th>\n",
       "      <th>RVK</th>\n",
       "    </tr>\n",
       "  </thead>\n",
       "  <tbody>\n",
       "    <tr>\n",
       "      <th>0</th>\n",
       "      <td><img src=\"https://cdn.pixabay.com/photo/2014/04/03/11/56/dice-312625_1280.png\" width=\"60\" ></td>\n",
       "      <td>3</td>\n",
       "      <td>0</td>\n",
       "    </tr>\n",
       "    <tr>\n",
       "      <th>1</th>\n",
       "      <td><img src=\"https://cdn.pixabay.com/photo/2014/04/03/10/24/two-310337_1280.png\" width=\"60\" ></td>\n",
       "      <td>0</td>\n",
       "      <td>0</td>\n",
       "    </tr>\n",
       "    <tr>\n",
       "      <th>2</th>\n",
       "      <td><img src=\"https://cdn.pixabay.com/photo/2014/04/03/10/24/three-310336_1280.png\" width=\"60\" ></td>\n",
       "      <td>0</td>\n",
       "      <td>0</td>\n",
       "    </tr>\n",
       "    <tr>\n",
       "      <th>3</th>\n",
       "      <td><img src=\"https://cdn.pixabay.com/photo/2014/04/03/10/24/dice-310335_1280.png\" width=\"60\" ></td>\n",
       "      <td>0</td>\n",
       "      <td>8</td>\n",
       "    </tr>\n",
       "    <tr>\n",
       "      <th>4</th>\n",
       "      <td><img src=\"https://cdn.pixabay.com/photo/2014/04/03/10/24/five-310334_1280.png\" width=\"60\" ></td>\n",
       "      <td>10</td>\n",
       "      <td>15</td>\n",
       "    </tr>\n",
       "    <tr>\n",
       "      <th>5</th>\n",
       "      <td><img src=\"https://cdn.pixabay.com/photo/2014/04/03/11/56/dice-312621_1280.png\" width=\"60\" ></td>\n",
       "      <td>18</td>\n",
       "      <td>18</td>\n",
       "    </tr>\n",
       "  </tbody>\n",
       "</table>"
      ],
      "text/plain": [
       "<IPython.core.display.HTML object>"
      ]
     },
     "execution_count": 10,
     "metadata": {},
     "output_type": "execute_result"
    }
   ],
   "source": [
    "final"
   ]
  },
  {
   "cell_type": "code",
   "execution_count": null,
   "metadata": {},
   "outputs": [],
   "source": []
  }
 ],
 "metadata": {
  "kernelspec": {
   "display_name": "Python 3",
   "language": "python",
   "name": "python3"
  },
  "language_info": {
   "codemirror_mode": {
    "name": "ipython",
    "version": 3
   },
   "file_extension": ".py",
   "mimetype": "text/x-python",
   "name": "python",
   "nbconvert_exporter": "python",
   "pygments_lexer": "ipython3",
   "version": "3.7.3"
  }
 },
 "nbformat": 4,
 "nbformat_minor": 2
}

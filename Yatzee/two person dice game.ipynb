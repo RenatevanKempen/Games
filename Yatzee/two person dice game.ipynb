{
 "cells": [
  {
   "cell_type": "code",
   "execution_count": 8,
   "metadata": {},
   "outputs": [
    {
     "name": "stdin",
     "output_type": "stream",
     "text": [
      "What is your username?  User1\n",
      "What is your password?  password\n"
     ]
    },
    {
     "name": "stdout",
     "output_type": "stream",
     "text": [
      "Welcome, User1 you have been successfully logged in.\n"
     ]
    },
    {
     "name": "stdin",
     "output_type": "stream",
     "text": [
      "What is your username?  User2\n",
      "What is your password?  password\n"
     ]
    },
    {
     "name": "stdout",
     "output_type": "stream",
     "text": [
      "Welcome, User2 you have been successfully logged in.\n",
      "After this round User1 you now have: 20 Points\n",
      "After this round User2 you now have: 2 Points\n",
      "After this round User1 you now have: 43 Points\n",
      "After this round User2 you now have: 15 Points\n",
      "After this round User1 you now have: 61 Points\n",
      "After this round User2 you now have: 19 Points\n",
      "After this round User1 you now have: 81 Points\n",
      "After this round User2 you now have: 43 Points\n",
      "Well done, User1 you won with 81 Points\n"
     ]
    }
   ],
   "source": [
    "import random\n",
    "import time\n",
    "\n",
    "\n",
    "def login():\n",
    "    while True:\n",
    "        username = input('What is your username? ')\n",
    "        password = input('What is your password? ')\n",
    "        if username not in ('User1', 'User2', 'User3', 'User4', 'User5'):\n",
    "            print('Incorrect username, try again')\n",
    "            continue\n",
    "\n",
    "        if password != 'password':\n",
    "            print('Incorrect password, try again')\n",
    "            continue\n",
    "\n",
    "        print(f'Welcome, {username} you have been successfully logged in.')\n",
    "        return username\n",
    "\n",
    "\n",
    "def roll():\n",
    "    die1 = random.randint(1, 6)\n",
    "    die2 = random.randint(1, 6)\n",
    "    change = 10 if (die1 + die2) % 2 == 0 else -5\n",
    "    points = die1 + die2 + change\n",
    "    if die1 == die2:\n",
    "        points += random.randint(1, 6)\n",
    "    return points\n",
    "\n",
    "\n",
    "def game(user1, user2):\n",
    "    player1_points = 0\n",
    "    player2_points = 0\n",
    "    for i in range(1,5):\n",
    "        player1_points += roll()\n",
    "        print(f'After this round {user1} you now have: {player1_points} Points')\n",
    "        time.sleep(1)\n",
    "        player2_points += roll()\n",
    "        print(f'After this round {user2} you now have: {player2_points} Points')\n",
    "        time.sleep(1)\n",
    "\n",
    "    player1_tiebreaker = 0\n",
    "    player2_tiebreaker = 0\n",
    "    if player1_points == player2_tiebreaker:\n",
    "        while player1_tiebreaker == player2_tiebreaker:\n",
    "            player1_tiebreaker = random.randint(1,6)\n",
    "            player2_tiebreaker = random.randint(1,6)\n",
    "\n",
    "    player1_win = (player1_points + player1_tiebreaker) > (player2_points + player2_tiebreaker)\n",
    "    player2_win = (player2_points + player2_tiebreaker) > (player1_points + player1_tiebreaker)\n",
    "    #return (player1_points, player1_win), (player2_points, not player2_win)\n",
    "    return (player1_points, player1_win), (player2_points, player2_win)\n",
    "\n",
    "\n",
    "def add_winner(winner):\n",
    "    with open('Winner.txt', 'a') as f:\n",
    "        f.write('{winner[0]},{winner[1]}\\n')\n",
    "\n",
    "\n",
    "def get_leaderboard():\n",
    "    return 'YOU WIN!!!'\n",
    "    #with open('Leaderboard.txt', 'r') as f:\n",
    "    #    return [line.replace('\\n','') for line in f.readlines()]\n",
    "\n",
    "\n",
    "#def update_leaderboard(leaderboard, winner):\n",
    "#    for idx, item in enumerate(leaderboard):\n",
    "#        if item.split(', ')[1] == winner[1] and int(item.split(', ')[0]) < int(winner[0]):\n",
    "#                leaderboard[idx] = '{}, {}'.format(winner[0], winner[1])\n",
    "#        else:\n",
    "#            pass\n",
    "#    leaderboard.sort(reverse=True)\n",
    "\n",
    "\n",
    "#def save_leaderboard(leaderboard):\n",
    "#    with open('Leaderboard.txt', 'w') as f:\n",
    "#        for item in leaderboard:\n",
    "#            f.write(f'{item}\\n')\n",
    "\n",
    "\n",
    "def main():\n",
    "    user1 = login()\n",
    "    user2 = login()\n",
    "    (player1, player1_win), (player2, player2_win) = game(user1, user2)\n",
    "    if player1_win:\n",
    "        winner = (player1, user1)\n",
    "    else:\n",
    "        winner = (player2, user2)\n",
    "    print('Well done, '+ winner[1] +' you won with '+ str(winner[0])+ ' Points')\n",
    "    add_winner(winner)\n",
    "    leaderboard = get_leaderboard()\n",
    "    #update_leaderboard(leaderboard, winner)\n",
    "    #save_leaderboard(leaderboard)\n",
    "\n",
    "\n",
    "if __name__ == '__main__':\n",
    "    main()"
   ]
  },
  {
   "cell_type": "code",
   "execution_count": null,
   "metadata": {},
   "outputs": [],
   "source": []
  }
 ],
 "metadata": {
  "kernelspec": {
   "display_name": "Python 3",
   "language": "python",
   "name": "python3"
  },
  "language_info": {
   "name": ""
  }
 },
 "nbformat": 4,
 "nbformat_minor": 2
}
